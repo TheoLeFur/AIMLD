{
 "cells": [
  {
   "cell_type": "markdown",
   "id": "5d2ade557360ddf8",
   "metadata": {
    "collapsed": false
   },
   "source": []
  },
  {
   "cell_type": "code",
   "execution_count": 8,
   "id": "initial_id",
   "metadata": {
    "ExecuteTime": {
     "end_time": "2024-03-23T18:28:27.307781Z",
     "start_time": "2024-03-23T18:28:25.785468Z"
    },
    "collapsed": true
   },
   "outputs": [],
   "source": [
    "from amld_rl.models.combinatorial_rl import CombinatorialRL\n",
    "from amld_rl.run_cbrl_train import TSPConfig, ModelConfig\n",
    "from amld_rl.trainer.cbrl_trainer import reward\n",
    "from amld_rl.data.crl_datagen import TSPDatasetGenerator\n",
    "from amld_rl.plots.plotlib import PlotTSPSolution"
   ]
  },
  {
   "cell_type": "markdown",
   "id": "ea046c083407c4f",
   "metadata": {
    "collapsed": false
   },
   "source": [
    "We present here the results of training of the combinatorial reinforcement learning model on instances of the Travelling Salesman Problem. We have trained the model on graphs containing 16 nodes. We start by loading the weights onto the model and then plot the solution of the RL agent on a random instance. "
   ]
  },
  {
   "cell_type": "code",
   "execution_count": 9,
   "id": "92044aaa",
   "metadata": {},
   "outputs": [],
   "source": [
    "exp_name: str = \"25e4DS\""
   ]
  },
  {
   "cell_type": "code",
   "execution_count": 10,
   "id": "69852b7e3f393cf1",
   "metadata": {
    "ExecuteTime": {
     "end_time": "2024-03-23T18:28:29.078513Z",
     "start_time": "2024-03-23T18:28:28.837899Z"
    },
    "collapsed": false
   },
   "outputs": [
    {
     "name": "stderr",
     "output_type": "stream",
     "text": [
      "100%|██████████| 100/100 [00:00<00:00, 97022.99it/s]\n"
     ]
    }
   ],
   "source": [
    "#Create a small test dataset\n",
    "dataset = TSPDatasetGenerator(\n",
    "    num_nodes=16,\n",
    "    num_samples=100\n",
    ")\n",
    "\n",
    "#create an instance of the combinatorial RL agent\n",
    "tsp_data = TSPConfig(num_nodes=16)\n",
    "model_data = ModelConfig(\n",
    "    embedding_size=128,\n",
    "    hidden_dim=128,\n",
    "    n_glimpses=1,\n",
    "    tanh_exploration=10,\n",
    "    use_tanh=True,\n",
    "    beta=.9,\n",
    "    max_grad_norm=2,\n",
    "    learning_rate=1e-4\n",
    ")\n",
    "agent = CombinatorialRL(\n",
    "    embedding_size=model_data.embedding_size,\n",
    "    hidden_dim=model_data.hidden_dim,\n",
    "    seq_len=tsp_data.num_nodes,\n",
    "    n_glimpses=model_data.n_glimpses,\n",
    "    reward=reward,\n",
    "    tanh_exploration=model_data.tanh_exploration,\n",
    "    use_tanh=model_data.use_tanh,\n",
    "    device=\"mps\"\n",
    ")\n",
    "# Put on any device you want\n",
    "agent.to(\"mps\")\n",
    "# Load the weights\n",
    "agent.load_weights(f\"../checkpoints/checkpoint-{exp_name}-4.pth\")\n"
   ]
  },
  {
   "cell_type": "code",
   "execution_count": 12,
   "id": "8dc09466",
   "metadata": {
    "ExecuteTime": {
     "end_time": "2024-03-23T18:31:07.865528Z",
     "start_time": "2024-03-23T18:30:00.294117Z"
    }
   },
   "outputs": [],
   "source": [
    "PlotTSPSolution.plot_tsp_solution(\n",
    "    model=agent,\n",
    "    dataset=dataset,\n",
    "    n_samples=256,\n",
    ")"
   ]
  }
 ],
 "metadata": {
  "kernelspec": {
   "display_name": "Python 3",
   "language": "python",
   "name": "python3"
  },
  "language_info": {
   "codemirror_mode": {
    "name": "ipython",
    "version": 3
   },
   "file_extension": ".py",
   "mimetype": "text/x-python",
   "name": "python",
   "nbconvert_exporter": "python",
   "pygments_lexer": "ipython3",
   "version": "3.12.2"
  }
 },
 "nbformat": 4,
 "nbformat_minor": 5
}
